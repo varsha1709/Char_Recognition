{
 "cells": [
  {
   "cell_type": "markdown",
   "id": "e6b7c64f-2fa4-44a1-9e95-98ed4a7e231e",
   "metadata": {},
   "source": [
    "# Importing the necessary library "
   ]
  },
  {
   "cell_type": "code",
   "execution_count": 1,
   "id": "2c83c883-4a17-4d09-bb80-9ae0b030c57e",
   "metadata": {},
   "outputs": [],
   "source": [
    "import os\n",
    "import random\n",
    "\n",
    "#hindi font\n",
    "import matplotlib.pyplot as plt\n",
    "from matplotlib.font_manager import FontProperties\n",
    "\n",
    "import numpy as np\n",
    "import pandas as pd\n",
    "\n",
    "#image display\n",
    "import cv2\n",
    "\n",
    "#tqdm used for progress bar\n",
    "from tqdm.notebook import tqdm\n",
    "from sklearn.metrics import accuracy_score"
   ]
  },
  {
   "cell_type": "markdown",
   "id": "b989e403-51be-4c91-94bd-f394cd6e9603",
   "metadata": {},
   "source": [
    "# The names of each character, in the correct order for the Hindi Devnagri script"
   ]
  },
  {
   "cell_type": "code",
   "execution_count": 2,
   "id": "43dbbacf-095b-40f4-9cbf-67f3797bf930",
   "metadata": {},
   "outputs": [],
   "source": [
    "class_names='''character_1_ka character_2_kha character_3_ga character_4_gha character_5_kna character_6_cha character_7_chha \n",
    "character_8_ja character_9_jha character_10_yna character_11_taamatar character_12_thaa character_13_daa character_14_dhaa \n",
    "character_15_adna character_16_tabala character_17_tha character_18_da character_19_dha character_20_na character_21_pa \n",
    "character_22_pha character_23_ba character_24_bha character_25_ma character_26_yaw character_27_ra character_28_la \n",
    "character_29_waw character_30_motosaw character_31_petchiryakha character_32_patalosaw character_33_ha character_34_chhya \n",
    "character_35_tra character_36_gya digit_0 digit_1 digit_2 digit_3 digit_4 digit_5 digit_6 digit_7 digit_8 digit_9'''.split()\n",
    "\n",
    "hindi_character = 'क ख ग घ ङ च छ ज झ ञ ट ठ ड ढ ण त थ द ध न प फ ब भ म य र ल व श ष स ह ॠ त्र ज्ञ ० १ २ ३ ४ ५ ६ ७ ८ ९'.split() "
   ]
  },
  {
   "cell_type": "code",
   "execution_count": 3,
   "id": "278e72c1-951e-4577-bdbd-9d4e3297ca78",
   "metadata": {},
   "outputs": [
    {
     "name": "stdout",
     "output_type": "stream",
     "text": [
      "['क', 'ख', 'ग', 'घ', 'ङ', 'च', 'छ', 'ज', 'झ', 'ञ', 'ट', 'ठ', 'ड', 'ढ', 'ण', 'त', 'थ', 'द', 'ध', 'न', 'प', 'फ', 'ब', 'भ', 'म', 'य', 'र', 'ल', 'व', 'श', 'ष', 'स', 'ह', 'ॠ', 'त्र', 'ज्ञ', '०', '१', '२', '३', '४', '५', '६', '७', '८', '९']\n"
     ]
    }
   ],
   "source": [
    "print(hindi_character)"
   ]
  },
  {
   "cell_type": "code",
   "execution_count": 4,
   "id": "0b60dcba-e682-44e7-81fb-ccb601664bee",
   "metadata": {},
   "outputs": [],
   "source": [
    "hindi_font = FontProperties(fname='./hindi-font/Nirmala.ttf') # Hindi font to display in Matplotlib"
   ]
  },
  {
   "cell_type": "markdown",
   "id": "f4ae5f2c-dcb1-4b1d-b6a3-9fa05f38ffcf",
   "metadata": {},
   "source": [
    "# Define the paths"
   ]
  },
  {
   "cell_type": "code",
   "execution_count": 5,
   "id": "54772746-3cbd-4dd8-803f-0660098c346c",
   "metadata": {},
   "outputs": [
    {
     "name": "stdout",
     "output_type": "stream",
     "text": [
      "Train Path : C:\\Users\\DELL\\jupyterr/DevanagariHandwrittenCharacterDataset_10_per_train_100_per_test/Train\n",
      "Test Path : C:\\Users\\DELL\\jupyterr/DevanagariHandwrittenCharacterDataset_10_per_train_100_per_test/Test\n"
     ]
    }
   ],
   "source": [
    "dataset_path =r\"C:\\Users\\DELL\\jupyterr/DevanagariHandwrittenCharacterDataset_10_per_train_100_per_test\"\n",
    "\n",
    "\n",
    "train_dataset_path = dataset_path+\"/Train\"\n",
    "test_dataset_path = dataset_path+\"/Test\"\n",
    "\n",
    "print(f\"Train Path : {train_dataset_path}\")\n",
    "print(f\"Test Path : {test_dataset_path}\")"
   ]
  },
  {
   "cell_type": "markdown",
   "id": "e2424f84-19fd-45cb-b7a7-9ffd927cd61a",
   "metadata": {},
   "source": [
    "# Visualize the data"
   ]
  },
  {
   "cell_type": "code",
   "execution_count": 6,
   "id": "f5c60123-ad39-4398-9ab5-6e415508caf7",
   "metadata": {},
   "outputs": [],
   "source": [
    "def see_random_picture(target_dir , class_name):\n",
    "    target_directory = target_dir + '/' + class_name                    # Example --> Train + '/' + character_1_ka  -->  Train/character_1_ka\n",
    "    random_picture_name = random.choice(os.listdir(target_directory))   # Selecting random image from Train/character_1_ka\n",
    "    image_path = target_directory + '/' + random_picture_name           # let say random image name is 10963.png , so final image path would be :                                                                      #                                                     Train/character_1_ka/10963.png\n",
    "    image = plt.imread(image_path) \n",
    "\n",
    "    hindi_char_name = hindi_character[class_names.index(class_name)]\n",
    "    hindi_font = FontProperties(fname='./hindi-font/Nirmala.ttf')\n",
    "\n",
    "    plt.figure(figsize=(2,2))\n",
    "    print(f\"Shape of image : {image.shape}\")  #  display the shape of the image.\n",
    "    plt.imshow(image , cmap='gray')\n",
    "    plt.title(f\"{class_name} - ({hindi_char_name})\",fontproperties=hindi_font)\n",
    "    plt.axis(\"off\")"
   ]
  },
  {
   "cell_type": "markdown",
   "id": "8dffd5e8-b7c1-4c55-b206-62060e6bef6f",
   "metadata": {},
   "source": [
    "# Let view any random character from train data\n"
   ]
  },
  {
   "cell_type": "code",
   "execution_count": 7,
   "id": "897e7dfd-8673-4253-a242-9864289988cc",
   "metadata": {},
   "outputs": [
    {
     "name": "stdout",
     "output_type": "stream",
     "text": [
      "Shape of image : (32, 32)\n"
     ]
    },
    {
     "data": {
      "image/png": "[encoded data removed]",
      "text/plain": [
       "<Figure size 200x200 with 1 Axes>"
      ]
     },
     "metadata": {},
     "output_type": "display_data"
    }
   ],
   "source": [
    "see_random_picture(train_dataset_path,\n",
    "                   random.choice(class_names))"
   ]
  },
  {
   "cell_type": "markdown",
   "id": "dba17eb1-6cef-4c72-8c6b-940486a4a04c",
   "metadata": {},
   "source": [
    "# Load Data"
   ]
  },
  {
   "cell_type": "code",
   "execution_count": 8,
   "id": "69f1b6a2-3b7d-467f-a1c7-76ef5343ef4d",
   "metadata": {},
   "outputs": [],
   "source": [
    "def load_data_from_directory(directory, class_names, description=None):\n",
    "    all_images = []\n",
    "    all_labels = []\n",
    "\n",
    "    for class_name in tqdm(class_names,desc=description):\n",
    "        target_dir = directory + \"/\" + class_name\n",
    "        images = os.listdir(target_dir)\n",
    "\n",
    "        for img in images:\n",
    "            img_path = target_dir + \"/\" + img\n",
    "            img_arr = cv2.imread(img_path,0).flatten()\n",
    "            img_label = class_names.index(class_name)\n",
    "\n",
    "            all_images.append(img_arr.astype('float32'))\n",
    "            all_labels.append(img_label)\n",
    "\n",
    "    return np.array(all_images), np.array(all_labels)"
   ]
  },
  {
   "cell_type": "code",
   "execution_count": 9,
   "id": "84494f61-16c5-4bd6-add7-3b7bca12d3ef",
   "metadata": {},
   "outputs": [
    {
     "data": {
      "application/vnd.jupyter.widget-view+json": {
       "model_id": "8b312da1f1d34669a1fc88dae333f61e",
       "version_major": 2,
       "version_minor": 0
      },
      "text/plain": [
       "Loading train data...  :   0%|          | 0/46 [00:00<?, ?it/s]"
      ]
     },
     "metadata": {},
     "output_type": "display_data"
    },
    {
     "data": {
      "application/vnd.jupyter.widget-view+json": {
       "model_id": "3be5fcf19b374e5c8c615a15aca441a1",
       "version_major": 2,
       "version_minor": 0
      },
      "text/plain": [
       "Loading test data...  :   0%|          | 0/46 [00:00<?, ?it/s]"
      ]
     },
     "metadata": {},
     "output_type": "display_data"
    }
   ],
   "source": [
    "X_train, y_train = load_data_from_directory(train_dataset_path,class_names,\"Loading train data...  \")\n",
    "X_test, y_test = load_data_from_directory(test_dataset_path,class_names,\"Loading test data...  \")"
   ]
  },
  {
   "cell_type": "code",
   "execution_count": 10,
   "id": "3e362d56-e83e-4ec6-bb5a-29b1fd4381a9",
   "metadata": {},
   "outputs": [
    {
     "data": {
      "text/plain": [
       "((7820, 1024), (13800, 1024))"
      ]
     },
     "execution_count": 10,
     "metadata": {},
     "output_type": "execute_result"
    }
   ],
   "source": [
    "X_train.shape, X_test.shape "
   ]
  },
  {
   "cell_type": "code",
   "execution_count": 11,
   "id": "fa1e67f2-04ab-4f8a-85f7-ffa4bc5a8d81",
   "metadata": {},
   "outputs": [
    {
     "data": {
      "text/plain": [
       "((7820,), (13800,))"
      ]
     },
     "execution_count": 11,
     "metadata": {},
     "output_type": "execute_result"
    }
   ],
   "source": [
    "y_train.shape, y_test.shape"
   ]
  },
  {
   "cell_type": "code",
   "execution_count": 12,
   "id": "c2197534-9fb3-4b3e-b446-ff33b7425219",
   "metadata": {},
   "outputs": [
    {
     "data": {
      "image/png": "[encoded data removed]",
      "text/plain": [
       "<Figure size 1500x1500 with 25 Axes>"
      ]
     },
     "metadata": {},
     "output_type": "display_data"
    }
   ],
   "source": [
    "fig, ax = plt.subplots(5,5, figsize=(15,15))\n",
    "ax = ax.flatten()\n",
    "\n",
    "for i in range(25):\n",
    "    k = np.random.randint(0,len(X_train))\n",
    "    \n",
    "    img = X_train[k]\n",
    "    label = y_train[k]\n",
    "    \n",
    "    ax[i].imshow(img.reshape(32,32),cmap='gray')\n",
    "    ax[i].axis(False)\n",
    "    ax[i].set_title(hindi_character[label],fontproperties=hindi_font, fontsize=15)\n",
    "\n",
    "plt.show()"
   ]
  },
  {
   "cell_type": "markdown",
   "id": "4f852908-cf06-468e-b339-576149838c4a",
   "metadata": {},
   "source": [
    "# Feature Scaling"
   ]
  },
  {
   "cell_type": "code",
   "execution_count": 13,
   "id": "0e3ee729-5884-42eb-9f7d-279b73ba32ac",
   "metadata": {},
   "outputs": [],
   "source": [
    "from sklearn.preprocessing import StandardScaler"
   ]
  },
  {
   "cell_type": "code",
   "execution_count": 14,
   "id": "b7b88c33-374c-41a1-abfc-33a03131722f",
   "metadata": {},
   "outputs": [],
   "source": [
    "scaler = StandardScaler()\n",
    "X_train_scaled = scaler.fit_transform(X_train)\n",
    "X_test_scaled = scaler.transform(X_test)"
   ]
  },
  {
   "cell_type": "markdown",
   "id": "672875e9-1bb5-4a38-8645-00b13ff8d4e1",
   "metadata": {},
   "source": [
    "# Feature Selection: PCA"
   ]
  },
  {
   "cell_type": "code",
   "execution_count": 15,
   "id": "def1f0d1-0672-4080-87f6-7d60b66ad822",
   "metadata": {},
   "outputs": [],
   "source": [
    "from sklearn.decomposition import PCA"
   ]
  },
  {
   "cell_type": "code",
   "execution_count": 16,
   "id": "59a5e8fc-9a7f-4cb6-9f25-4d96978d400f",
   "metadata": {},
   "outputs": [],
   "source": [
    "pca = PCA(n_components=0.98)  # Retain 98% of information\n",
    "X_train_pca = pca.fit_transform(X_train_scaled)\n",
    "X_test_pca = pca.transform(X_test_scaled)"
   ]
  },
  {
   "cell_type": "code",
   "execution_count": 17,
   "id": "dba3d739-a969-4829-b004-d380477c904c",
   "metadata": {},
   "outputs": [
    {
     "data": {
      "text/plain": [
       "((7820, 293), (13800, 293))"
      ]
     },
     "execution_count": 17,
     "metadata": {},
     "output_type": "execute_result"
    }
   ],
   "source": [
    "X_train_pca.shape, X_test_pca.shape"
   ]
  },
  {
   "cell_type": "markdown",
   "id": "8f8cbb82-7a78-4774-a2ff-a48f695757f9",
   "metadata": {},
   "source": [
    "# SVC Model"
   ]
  },
  {
   "cell_type": "code",
   "execution_count": 18,
   "id": "d2a4362d-377d-4404-891e-d1303d30d488",
   "metadata": {},
   "outputs": [],
   "source": [
    "from sklearn.svm import SVC"
   ]
  },
  {
   "cell_type": "code",
   "execution_count": 19,
   "id": "bb49e2da-6a0f-4c4d-89aa-da19a354d03f",
   "metadata": {},
   "outputs": [],
   "source": [
    "# Initialize SVC with default parameters\n",
    "svc_classifier = SVC()"
   ]
  },
  {
   "cell_type": "code",
   "execution_count": 20,
   "id": "1e181667-de3a-4841-8807-129e3cdba67a",
   "metadata": {},
   "outputs": [
    {
     "data": {
      "text/html": [
       "<style>#sk-container-id-1 {\n",
       "  /* Definition of color scheme common for light and dark mode */\n",
       "  --sklearn-color-text: black;\n",
       "  --sklearn-color-line: gray;\n",
       "  /* Definition of color scheme for unfitted estimators */\n",
       "  --sklearn-color-unfitted-level-0: #fff5e6;\n",
       "  --sklearn-color-unfitted-level-1: #f6e4d2;\n",
       "  --sklearn-color-unfitted-level-2: #ffe0b3;\n",
       "  --sklearn-color-unfitted-level-3: chocolate;\n",
       "  /* Definition of color scheme for fitted estimators */\n",
       "  --sklearn-color-fitted-level-0: #f0f8ff;\n",
       "  --sklearn-color-fitted-level-1: #d4ebff;\n",
       "  --sklearn-color-fitted-level-2: #b3dbfd;\n",
       "  --sklearn-color-fitted-level-3: cornflowerblue;\n",
       "\n",
       "  /* Specific color for light theme */\n",
       "  --sklearn-color-text-on-default-background: var(--sg-text-color, var(--theme-code-foreground, var(--jp-content-font-color1, black)));\n",
       "  --sklearn-color-background: var(--sg-background-color, var(--theme-background, var(--jp-layout-color0, white)));\n",
       "  --sklearn-color-border-box: var(--sg-text-color, var(--theme-code-foreground, var(--jp-content-font-color1, black)));\n",
       "  --sklearn-color-icon: #696969;\n",
       "\n",
       "  @media (prefers-color-scheme: dark) {\n",
       "    /* Redefinition of color scheme for dark theme */\n",
       "    --sklearn-color-text-on-default-background: var(--sg-text-color, var(--theme-code-foreground, var(--jp-content-font-color1, white)));\n",
       "    --sklearn-color-background: var(--sg-background-color, var(--theme-background, var(--jp-layout-color0, #111)));\n",
       "    --sklearn-color-border-box: var(--sg-text-color, var(--theme-code-foreground, var(--jp-content-font-color1, white)));\n",
       "    --sklearn-color-icon: #878787;\n",
       "  }\n",
       "}\n",
       "\n",
       "#sk-container-id-1 {\n",
       "  color: var(--sklearn-color-text);\n",
       "}\n",
       "\n",
       "#sk-container-id-1 pre {\n",
       "  padding: 0;\n",
       "}\n",
       "\n",
       "#sk-container-id-1 input.sk-hidden--visually {\n",
       "  border: 0;\n",
       "  clip: rect(1px 1px 1px 1px);\n",
       "  clip: rect(1px, 1px, 1px, 1px);\n",
       "  height: 1px;\n",
       "  margin: -1px;\n",
       "  overflow: hidden;\n",
       "  padding: 0;\n",
       "  position: absolute;\n",
       "  width: 1px;\n",
       "}\n",
       "\n",
       "#sk-container-id-1 div.sk-dashed-wrapped {\n",
       "  border: 1px dashed var(--sklearn-color-line);\n",
       "  margin: 0 0.4em 0.5em 0.4em;\n",
       "  box-sizing: border-box;\n",
       "  padding-bottom: 0.4em;\n",
       "  background-color: var(--sklearn-color-background);\n",
       "}\n",
       "\n",
       "#sk-container-id-1 div.sk-container {\n",
       "  /* jupyter's `normalize.less` sets `[hidden] { display: none; }`\n",
       "     but bootstrap.min.css set `[hidden] { display: none !important; }`\n",
       "     so we also need the `!important` here to be able to override the\n",
       "     default hidden behavior on the sphinx rendered scikit-learn.org.\n",
       "     See: https://github.com/scikit-learn/scikit-learn/issues/21755 */\n",
       "  display: inline-block !important;\n",
       "  position: relative;\n",
       "}\n",
       "\n",
       "#sk-container-id-1 div.sk-text-repr-fallback {\n",
       "  display: none;\n",
       "}\n",
       "\n",
       "div.sk-parallel-item,\n",
       "div.sk-serial,\n",
       "div.sk-item {\n",
       "  /* draw centered vertical line to link estimators */\n",
       "  background-image: linear-gradient(var(--sklearn-color-text-on-default-background), var(--sklearn-color-text-on-default-background));\n",
       "  background-size: 2px 100%;\n",
       "  background-repeat: no-repeat;\n",
       "  background-position: center center;\n",
       "}\n",
       "\n",
       "/* Parallel-specific style estimator block */\n",
       "\n",
       "#sk-container-id-1 div.sk-parallel-item::after {\n",
       "  content: \"\";\n",
       "  width: 100%;\n",
       "  border-bottom: 2px solid var(--sklearn-color-text-on-default-background);\n",
       "  flex-grow: 1;\n",
       "}\n",
       "\n",
       "#sk-container-id-1 div.sk-parallel {\n",
       "  display: flex;\n",
       "  align-items: stretch;\n",
       "  justify-content: center;\n",
       "  background-color: var(--sklearn-color-background);\n",
       "  position: relative;\n",
       "}\n",
       "\n",
       "#sk-container-id-1 div.sk-parallel-item {\n",
       "  display: flex;\n",
       "  flex-direction: column;\n",
       "}\n",
       "\n",
       "#sk-container-id-1 div.sk-parallel-item:first-child::after {\n",
       "  align-self: flex-end;\n",
       "  width: 50%;\n",
       "}\n",
       "\n",
       "#sk-container-id-1 div.sk-parallel-item:last-child::after {\n",
       "  align-self: flex-start;\n",
       "  width: 50%;\n",
       "}\n",
       "\n",
       "#sk-container-id-1 div.sk-parallel-item:only-child::after {\n",
       "  width: 0;\n",
       "}\n",
       "\n",
       "/* Serial-specific style estimator block */\n",
       "\n",
       "#sk-container-id-1 div.sk-serial {\n",
       "  display: flex;\n",
       "  flex-direction: column;\n",
       "  align-items: center;\n",
       "  background-color: var(--sklearn-color-background);\n",
       "  padding-right: 1em;\n",
       "  padding-left: 1em;\n",
       "}\n",
       "\n",
       "\n",
       "/* Toggleable style: style used for estimator/Pipeline/ColumnTransformer box that is\n",
       "clickable and can be expanded/collapsed.\n",
       "- Pipeline and ColumnTransformer use this feature and define the default style\n",
       "- Estimators will overwrite some part of the style using the `sk-estimator` class\n",
       "*/\n",
       "\n",
       "/* Pipeline and ColumnTransformer style (default) */\n",
       "\n",
       "#sk-container-id-1 div.sk-toggleable {\n",
       "  /* Default theme specific background. It is overwritten whether we have a\n",
       "  specific estimator or a Pipeline/ColumnTransformer */\n",
       "  background-color: var(--sklearn-color-background);\n",
       "}\n",
       "\n",
       "/* Toggleable label */\n",
       "#sk-container-id-1 label.sk-toggleable__label {\n",
       "  cursor: pointer;\n",
       "  display: block;\n",
       "  width: 100%;\n",
       "  margin-bottom: 0;\n",
       "  padding: 0.5em;\n",
       "  box-sizing: border-box;\n",
       "  text-align: center;\n",
       "}\n",
       "\n",
       "#sk-container-id-1 label.sk-toggleable__label-arrow:before {\n",
       "  /* Arrow on the left of the label */\n",
       "  content: \"▸\";\n",
       "  float: left;\n",
       "  margin-right: 0.25em;\n",
       "  color: var(--sklearn-color-icon);\n",
       "}\n",
       "\n",
       "#sk-container-id-1 label.sk-toggleable__label-arrow:hover:before {\n",
       "  color: var(--sklearn-color-text);\n",
       "}\n",
       "\n",
       "/* Toggleable content - dropdown */\n",
       "\n",
       "#sk-container-id-1 div.sk-toggleable__content {\n",
       "  max-height: 0;\n",
       "  max-width: 0;\n",
       "  overflow: hidden;\n",
       "  text-align: left;\n",
       "  /* unfitted */\n",
       "  background-color: var(--sklearn-color-unfitted-level-0);\n",
       "}\n",
       "\n",
       "#sk-container-id-1 div.sk-toggleable__content.fitted {\n",
       "  /* fitted */\n",
       "  background-color: var(--sklearn-color-fitted-level-0);\n",
       "}\n",
       "\n",
       "#sk-container-id-1 div.sk-toggleable__content pre {\n",
       "  margin: 0.2em;\n",
       "  border-radius: 0.25em;\n",
       "  color: var(--sklearn-color-text);\n",
       "  /* unfitted */\n",
       "  background-color: var(--sklearn-color-unfitted-level-0);\n",
       "}\n",
       "\n",
       "#sk-container-id-1 div.sk-toggleable__content.fitted pre {\n",
       "  /* unfitted */\n",
       "  background-color: var(--sklearn-color-fitted-level-0);\n",
       "}\n",
       "\n",
       "#sk-container-id-1 input.sk-toggleable__control:checked~div.sk-toggleable__content {\n",
       "  /* Expand drop-down */\n",
       "  max-height: 200px;\n",
       "  max-width: 100%;\n",
       "  overflow: auto;\n",
       "}\n",
       "\n",
       "#sk-container-id-1 input.sk-toggleable__control:checked~label.sk-toggleable__label-arrow:before {\n",
       "  content: \"▾\";\n",
       "}\n",
       "\n",
       "/* Pipeline/ColumnTransformer-specific style */\n",
       "\n",
       "#sk-container-id-1 div.sk-label input.sk-toggleable__control:checked~label.sk-toggleable__label {\n",
       "  color: var(--sklearn-color-text);\n",
       "  background-color: var(--sklearn-color-unfitted-level-2);\n",
       "}\n",
       "\n",
       "#sk-container-id-1 div.sk-label.fitted input.sk-toggleable__control:checked~label.sk-toggleable__label {\n",
       "  background-color: var(--sklearn-color-fitted-level-2);\n",
       "}\n",
       "\n",
       "/* Estimator-specific style */\n",
       "\n",
       "/* Colorize estimator box */\n",
       "#sk-container-id-1 div.sk-estimator input.sk-toggleable__control:checked~label.sk-toggleable__label {\n",
       "  /* unfitted */\n",
       "  background-color: var(--sklearn-color-unfitted-level-2);\n",
       "}\n",
       "\n",
       "#sk-container-id-1 div.sk-estimator.fitted input.sk-toggleable__control:checked~label.sk-toggleable__label {\n",
       "  /* fitted */\n",
       "  background-color: var(--sklearn-color-fitted-level-2);\n",
       "}\n",
       "\n",
       "#sk-container-id-1 div.sk-label label.sk-toggleable__label,\n",
       "#sk-container-id-1 div.sk-label label {\n",
       "  /* The background is the default theme color */\n",
       "  color: var(--sklearn-color-text-on-default-background);\n",
       "}\n",
       "\n",
       "/* On hover, darken the color of the background */\n",
       "#sk-container-id-1 div.sk-label:hover label.sk-toggleable__label {\n",
       "  color: var(--sklearn-color-text);\n",
       "  background-color: var(--sklearn-color-unfitted-level-2);\n",
       "}\n",
       "\n",
       "/* Label box, darken color on hover, fitted */\n",
       "#sk-container-id-1 div.sk-label.fitted:hover label.sk-toggleable__label.fitted {\n",
       "  color: var(--sklearn-color-text);\n",
       "  background-color: var(--sklearn-color-fitted-level-2);\n",
       "}\n",
       "\n",
       "/* Estimator label */\n",
       "\n",
       "#sk-container-id-1 div.sk-label label {\n",
       "  font-family: monospace;\n",
       "  font-weight: bold;\n",
       "  display: inline-block;\n",
       "  line-height: 1.2em;\n",
       "}\n",
       "\n",
       "#sk-container-id-1 div.sk-label-container {\n",
       "  text-align: center;\n",
       "}\n",
       "\n",
       "/* Estimator-specific */\n",
       "#sk-container-id-1 div.sk-estimator {\n",
       "  font-family: monospace;\n",
       "  border: 1px dotted var(--sklearn-color-border-box);\n",
       "  border-radius: 0.25em;\n",
       "  box-sizing: border-box;\n",
       "  margin-bottom: 0.5em;\n",
       "  /* unfitted */\n",
       "  background-color: var(--sklearn-color-unfitted-level-0);\n",
       "}\n",
       "\n",
       "#sk-container-id-1 div.sk-estimator.fitted {\n",
       "  /* fitted */\n",
       "  background-color: var(--sklearn-color-fitted-level-0);\n",
       "}\n",
       "\n",
       "/* on hover */\n",
       "#sk-container-id-1 div.sk-estimator:hover {\n",
       "  /* unfitted */\n",
       "  background-color: var(--sklearn-color-unfitted-level-2);\n",
       "}\n",
       "\n",
       "#sk-container-id-1 div.sk-estimator.fitted:hover {\n",
       "  /* fitted */\n",
       "  background-color: var(--sklearn-color-fitted-level-2);\n",
       "}\n",
       "\n",
       "/* Specification for estimator info (e.g. \"i\" and \"?\") */\n",
       "\n",
       "/* Common style for \"i\" and \"?\" */\n",
       "\n",
       ".sk-estimator-doc-link,\n",
       "a:link.sk-estimator-doc-link,\n",
       "a:visited.sk-estimator-doc-link {\n",
       "  float: right;\n",
       "  font-size: smaller;\n",
       "  line-height: 1em;\n",
       "  font-family: monospace;\n",
       "  background-color: var(--sklearn-color-background);\n",
       "  border-radius: 1em;\n",
       "  height: 1em;\n",
       "  width: 1em;\n",
       "  text-decoration: none !important;\n",
       "  margin-left: 1ex;\n",
       "  /* unfitted */\n",
       "  border: var(--sklearn-color-unfitted-level-1) 1pt solid;\n",
       "  color: var(--sklearn-color-unfitted-level-1);\n",
       "}\n",
       "\n",
       ".sk-estimator-doc-link.fitted,\n",
       "a:link.sk-estimator-doc-link.fitted,\n",
       "a:visited.sk-estimator-doc-link.fitted {\n",
       "  /* fitted */\n",
       "  border: var(--sklearn-color-fitted-level-1) 1pt solid;\n",
       "  color: var(--sklearn-color-fitted-level-1);\n",
       "}\n",
       "\n",
       "/* On hover */\n",
       "div.sk-estimator:hover .sk-estimator-doc-link:hover,\n",
       ".sk-estimator-doc-link:hover,\n",
       "div.sk-label-container:hover .sk-estimator-doc-link:hover,\n",
       ".sk-estimator-doc-link:hover {\n",
       "  /* unfitted */\n",
       "  background-color: var(--sklearn-color-unfitted-level-3);\n",
       "  color: var(--sklearn-color-background);\n",
       "  text-decoration: none;\n",
       "}\n",
       "\n",
       "div.sk-estimator.fitted:hover .sk-estimator-doc-link.fitted:hover,\n",
       ".sk-estimator-doc-link.fitted:hover,\n",
       "div.sk-label-container:hover .sk-estimator-doc-link.fitted:hover,\n",
       ".sk-estimator-doc-link.fitted:hover {\n",
       "  /* fitted */\n",
       "  background-color: var(--sklearn-color-fitted-level-3);\n",
       "  color: var(--sklearn-color-background);\n",
       "  text-decoration: none;\n",
       "}\n",
       "\n",
       "/* Span, style for the box shown on hovering the info icon */\n",
       ".sk-estimator-doc-link span {\n",
       "  display: none;\n",
       "  z-index: 9999;\n",
       "  position: relative;\n",
       "  font-weight: normal;\n",
       "  right: .2ex;\n",
       "  padding: .5ex;\n",
       "  margin: .5ex;\n",
       "  width: min-content;\n",
       "  min-width: 20ex;\n",
       "  max-width: 50ex;\n",
       "  color: var(--sklearn-color-text);\n",
       "  box-shadow: 2pt 2pt 4pt #999;\n",
       "  /* unfitted */\n",
       "  background: var(--sklearn-color-unfitted-level-0);\n",
       "  border: .5pt solid var(--sklearn-color-unfitted-level-3);\n",
       "}\n",
       "\n",
       ".sk-estimator-doc-link.fitted span {\n",
       "  /* fitted */\n",
       "  background: var(--sklearn-color-fitted-level-0);\n",
       "  border: var(--sklearn-color-fitted-level-3);\n",
       "}\n",
       "\n",
       ".sk-estimator-doc-link:hover span {\n",
       "  display: block;\n",
       "}\n",
       "\n",
       "/* \"?\"-specific style due to the `<a>` HTML tag */\n",
       "\n",
       "#sk-container-id-1 a.estimator_doc_link {\n",
       "  float: right;\n",
       "  font-size: 1rem;\n",
       "  line-height: 1em;\n",
       "  font-family: monospace;\n",
       "  background-color: var(--sklearn-color-background);\n",
       "  border-radius: 1rem;\n",
       "  height: 1rem;\n",
       "  width: 1rem;\n",
       "  text-decoration: none;\n",
       "  /* unfitted */\n",
       "  color: var(--sklearn-color-unfitted-level-1);\n",
       "  border: var(--sklearn-color-unfitted-level-1) 1pt solid;\n",
       "}\n",
       "\n",
       "#sk-container-id-1 a.estimator_doc_link.fitted {\n",
       "  /* fitted */\n",
       "  border: var(--sklearn-color-fitted-level-1) 1pt solid;\n",
       "  color: var(--sklearn-color-fitted-level-1);\n",
       "}\n",
       "\n",
       "/* On hover */\n",
       "#sk-container-id-1 a.estimator_doc_link:hover {\n",
       "  /* unfitted */\n",
       "  background-color: var(--sklearn-color-unfitted-level-3);\n",
       "  color: var(--sklearn-color-background);\n",
       "  text-decoration: none;\n",
       "}\n",
       "\n",
       "#sk-container-id-1 a.estimator_doc_link.fitted:hover {\n",
       "  /* fitted */\n",
       "  background-color: var(--sklearn-color-fitted-level-3);\n",
       "}\n",
       "</style><div id=\"sk-container-id-1\" class=\"sk-top-container\"><div class=\"sk-text-repr-fallback\"><pre>SVC()</pre><b>In a Jupyter environment, please rerun this cell to show the HTML representation or trust the notebook. <br />On GitHub, the HTML representation is unable to render, please try loading this page with nbviewer.org.</b></div><div class=\"sk-container\" hidden><div class=\"sk-item\"><div class=\"sk-estimator fitted sk-toggleable\"><input class=\"sk-toggleable__control sk-hidden--visually\" id=\"sk-estimator-id-1\" type=\"checkbox\" checked><label for=\"sk-estimator-id-1\" class=\"sk-toggleable__label fitted sk-toggleable__label-arrow fitted\">&nbsp;&nbsp;SVC<a class=\"sk-estimator-doc-link fitted\" rel=\"noreferrer\" target=\"_blank\" href=\"https://scikit-learn.org/1.4/modules/generated/sklearn.svm.SVC.html\">?<span>Documentation for SVC</span></a><span class=\"sk-estimator-doc-link fitted\">i<span>Fitted</span></span></label><div class=\"sk-toggleable__content fitted\"><pre>SVC()</pre></div> </div></div></div></div>"
      ],
      "text/plain": [
       "SVC()"
      ]
     },
     "execution_count": 20,
     "metadata": {},
     "output_type": "execute_result"
    }
   ],
   "source": [
    "# Fit the classifier on the reduced dimensionality data\n",
    "svc_classifier.fit(X_train_pca, y_train)"
   ]
  },
  {
   "cell_type": "code",
   "execution_count": 21,
   "id": "216f4f2a-2399-45ec-a2d5-f23f5a33be63",
   "metadata": {},
   "outputs": [],
   "source": [
    "# Predictions on the test set\n",
    "y_pred = svc_classifier.predict(X_test_pca)"
   ]
  },
  {
   "cell_type": "code",
   "execution_count": 22,
   "id": "9477700e-4e4b-498a-9bc4-ff366ac1352d",
   "metadata": {},
   "outputs": [
    {
     "data": {
      "text/plain": [
       "0.8338405797101449"
      ]
     },
     "execution_count": 22,
     "metadata": {},
     "output_type": "execute_result"
    }
   ],
   "source": [
    "accuracy = accuracy_score(y_test, y_pred)\n",
    "accuracy"
   ]
  },
  {
   "cell_type": "markdown",
   "id": "755dbfdf-0987-4c06-9a07-bf0a5b1c38f3",
   "metadata": {},
   "source": [
    "# Hyper parameter tunning "
   ]
  },
  {
   "cell_type": "markdown",
   "id": "5627cced-4571-49b9-89b2-dd04696bcb66",
   "metadata": {},
   "source": [
    "# Save best model"
   ]
  },
  {
   "cell_type": "code",
   "execution_count": null,
   "id": "a87c3aa0-400d-4d5f-bf00-c6f624b1089a",
   "metadata": {},
   "outputs": [],
   "source": [
    "import joblib"
   ]
  },
  {
   "cell_type": "code",
   "execution_count": null,
   "id": "1c83aca2-385e-4362-ac3b-51beaa6478a3",
   "metadata": {},
   "outputs": [],
   "source": [
    "def save_model(model, filename):\n",
    "    try:\n",
    "        joblib.dump(model, f\"./MyModels/{filename}\" )\n",
    "        print(f\"Model saved successfully to ./MyModels/{filename}\")\n",
    "    except Exception as e:\n",
    "        print(f\"Error saving the model: {e}\")"
   ]
  },
  {
   "cell_type": "code",
   "execution_count": null,
   "id": "4823c976-0914-4231-9dfe-dc73aba9e938",
   "metadata": {},
   "outputs": [],
   "source": [
    "save_model(best_svc_classifier, 'best_svc_classifier_model.joblib')"
   ]
  },
  {
   "cell_type": "code",
   "execution_count": null,
   "id": "cecaa18e-4e46-48a7-aba5-4e75f78ee7cf",
   "metadata": {},
   "outputs": [],
   "source": [
    "def pred_and_plot(model):\n",
    "\n",
    "    fig, ax = plt.subplots(6,6, figsize=(15,15))\n",
    "    ax = ax.flatten()\n",
    "    \n",
    "    for i in range(36):\n",
    "        k = np.random.randint(0, len(X_test))\n",
    "        img = X_test[k]\n",
    "        img_pca = X_test_pca[k]\n",
    "    \n",
    "        pred_class = model.predict([img_pca])[0]\n",
    "        true_class = y_test[k]\n",
    "    \n",
    "        if pred_class == true_class:\n",
    "            color='green'\n",
    "        else:\n",
    "            color='red'\n",
    "    \n",
    "        ax[i].imshow(img.reshape(32,32),cmap='gray_r')\n",
    "        ax[i].axis(False)\n",
    "        ax[i].set_title(f\"Actual Class: {hindi_character[true_class]}\\nPredicted Class: {hindi_character[pred_class]}\",\n",
    "                        color=color,\n",
    "                        fontproperties=hindi_font)\n",
    "    \n",
    "    plt.show()"
   ]
  },
  {
   "cell_type": "code",
   "execution_count": null,
   "id": "5c763807-a4a0-4235-9a94-640641c1a1b6",
   "metadata": {},
   "outputs": [],
   "source": [
    "def single_image_prediction(img,model):\n",
    "    img_arr = cv2.imread(img,0).flatten().astype(\"float32\")\n",
    "    img_scaler = scaler.transform(img_arr.reshape(1,-1))\n",
    "    img_pca = pca.transform(img_scaler)\n",
    "\n",
    "    y_pred = model.predict(img_pca)[0]\n",
    "    pred_class = hindi_character[y_pred]\n",
    "\n",
    "    plt.imshow(img_arr.reshape(32,32),cmap='gray')\n",
    "    plt.title(f\"Predicted Class : {pred_class} \",fontproperties=hindi_font,fontsize=20)\n",
    "    plt.axis(False)\n",
    "    plt.show()"
   ]
  },
  {
   "cell_type": "code",
   "execution_count": null,
   "id": "dc0de1b6-d7b9-4d31-b3d4-5f722974013f",
   "metadata": {},
   "outputs": [],
   "source": [
    "pred_and_plot(best_svc_classifier)"
   ]
  },
  {
   "cell_type": "code",
   "execution_count": null,
   "id": "a7f2d1ef-381e-4da1-896a-d863b366a463",
   "metadata": {},
   "outputs": [],
   "source": [
    "test_img_1 = \"./DevanagariHandwrittenCharacterDataset_10_per_train_100_per_test/Test/character_28_la/11430.png\"\n",
    "test_img_2 = \"./DevanagariHandwrittenCharacterDataset_10_per_train_100_per_test/Test/character_21_pa/11115.png\"\n",
    "test_img_3 = \"./DevanagariHandwrittenCharacterDataset_10_per_train_100_per_test/Test/character_25_ma/17568.png\""
   ]
  },
  {
   "cell_type": "code",
   "execution_count": null,
   "id": "c66a32e0-d7ce-40ca-9745-3c8860cccef5",
   "metadata": {},
   "outputs": [],
   "source": [
    "single_image_prediction(test_img_1,best_svc_classifier)"
   ]
  },
  {
   "cell_type": "code",
   "execution_count": null,
   "id": "22bafc68-302d-4717-b3e1-22d8b2ed91c4",
   "metadata": {},
   "outputs": [],
   "source": [
    "single_image_prediction(test_img_2,best_svc_classifier)"
   ]
  },
  {
   "cell_type": "code",
   "execution_count": null,
   "id": "016cea9e-91aa-484a-ae2c-7a8e1922b954",
   "metadata": {},
   "outputs": [],
   "source": [
    "single_image_prediction(test_img_3,best_svc_classifier)"
   ]
  },
  {
   "cell_type": "code",
   "execution_count": null,
   "id": "4e1c85d3-2eb2-4da1-8a7a-4371a1f21d20",
   "metadata": {},
   "outputs": [],
   "source": []
  }
 ],
 "metadata": {
  "kernelspec": {
   "display_name": "Python 3 (ipykernel)",
   "language": "python",
   "name": "python3"
  },
  "language_info": {
   "codemirror_mode": {
    "name": "ipython",
    "version": 3
   },
   "file_extension": ".py",
   "mimetype": "text/x-python",
   "name": "python",
   "nbconvert_exporter": "python",
   "pygments_lexer": "ipython3",
   "version": "3.12.0"
  }
 },
 "nbformat": 4,
 "nbformat_minor": 5
}
