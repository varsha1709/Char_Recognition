{
 "cells": [
  {
   "cell_type": "code",
   "execution_count": 1,
   "id": "de772c2f-c3ce-4475-89cb-a7f4f25c0b98",
   "metadata": {},
   "outputs": [],
   "source": [
    "import sklearn"
   ]
  },
  {
   "cell_type": "code",
   "execution_count": 2,
   "id": "e28dabf3-b9f6-414f-88ba-9c0fce6f17c9",
   "metadata": {},
   "outputs": [],
   "source": [
    "import matplotlib"
   ]
  },
  {
   "cell_type": "code",
   "execution_count": 3,
   "id": "fd56923f-80d9-49a1-9548-631c4c7abad1",
   "metadata": {},
   "outputs": [],
   "source": [
    "import pandas"
   ]
  },
  {
   "cell_type": "code",
   "execution_count": 4,
   "id": "6e63d4ef-6835-4f66-aa71-1304036a0667",
   "metadata": {},
   "outputs": [],
   "source": [
    "import numpy"
   ]
  },
  {
   "cell_type": "code",
   "execution_count": 5,
   "id": "e7bf1474-d893-4d38-beff-c084b36da8f6",
   "metadata": {},
   "outputs": [
    {
     "name": "stdout",
     "output_type": "stream",
     "text": [
      "0\n",
      "1\n",
      "2\n",
      "3\n",
      "4\n",
      "5\n",
      "6\n",
      "7\n",
      "8\n",
      "9\n"
     ]
    }
   ],
   "source": [
    "for i in range(10) :\n",
    "    print(i)"
   ]
  },
  {
   "cell_type": "code",
   "execution_count": 6,
   "id": "0957f00e-aebf-4dfc-b42b-f90d502fd704",
   "metadata": {},
   "outputs": [],
   "source": [
    "#def read_image_from_directory(C:\\Users\\DELL\\Downloads\\devanagari+handwritten+character+dataset\\DevanagariHandwrittenCharacterDataset\\Train ,digit_9 , shuffle = True , verbose = True):"
   ]
  },
  {
   "cell_type": "code",
   "execution_count": 7,
   "id": "d70597d6-8197-415c-950b-8a58640192fc",
   "metadata": {},
   "outputs": [],
   "source": [
    "import os"
   ]
  },
  {
   "cell_type": "code",
   "execution_count": 8,
   "id": "9bc3fd20-0a7e-458a-a796-87cb9b5dbe9f",
   "metadata": {},
   "outputs": [],
   "source": [
    "import random"
   ]
  },
  {
   "cell_type": "code",
   "execution_count": 9,
   "id": "2b730208-1c42-4dcd-bb24-9f2bcfaa568a",
   "metadata": {},
   "outputs": [],
   "source": [
    "import shutil"
   ]
  },
  {
   "cell_type": "code",
   "execution_count": 10,
   "id": "ee2cd7a4-b323-434f-9878-435aefd2e8ed",
   "metadata": {},
   "outputs": [],
   "source": [
    "from tqdm.notebook import tqdm"
   ]
  },
  {
   "cell_type": "code",
   "execution_count": 11,
   "id": "228f5a29-3570-4fd1-9284-17a08d7950b4",
   "metadata": {},
   "outputs": [],
   "source": [
    "import tqdm"
   ]
  },
  {
   "cell_type": "code",
   "execution_count": 12,
   "id": "09635a83-8bbf-4e72-97f5-606503bd33a2",
   "metadata": {},
   "outputs": [
    {
     "name": "stdout",
     "output_type": "stream",
     "text": [
      "Requirement already satisfied: tqdm in c:\\users\\dell\\appdata\\local\\programs\\python\\python312\\lib\\site-packages (4.66.1)\n",
      "Requirement already satisfied: colorama in c:\\users\\dell\\appdata\\local\\programs\\python\\python312\\lib\\site-packages (from tqdm) (0.4.6)\n"
     ]
    },
    {
     "name": "stderr",
     "output_type": "stream",
     "text": [
      "\n",
      "[notice] A new release of pip is available: 23.3.2 -> 24.0\n",
      "[notice] To update, run: python.exe -m pip install --upgrade pip\n"
     ]
    }
   ],
   "source": [
    "!pip install tqdm"
   ]
  },
  {
   "cell_type": "code",
   "execution_count": 13,
   "id": "eb9f458d-207b-4b8b-b81a-b8e8dbc7e6a0",
   "metadata": {},
   "outputs": [
    {
     "name": "stdout",
     "output_type": "stream",
     "text": [
      "Requirement already satisfied: tqdm in c:\\users\\dell\\appdata\\local\\programs\\python\\python312\\lib\\site-packages (4.66.1)\n",
      "Requirement already satisfied: colorama in c:\\users\\dell\\appdata\\local\\programs\\python\\python312\\lib\\site-packages (from tqdm) (0.4.6)\n",
      "Note: you may need to restart the kernel to use updated packages.\n"
     ]
    },
    {
     "name": "stderr",
     "output_type": "stream",
     "text": [
      "\n",
      "[notice] A new release of pip is available: 23.3.2 -> 24.0\n",
      "[notice] To update, run: python.exe -m pip install --upgrade pip\n"
     ]
    }
   ],
   "source": [
    "pip install tqdm"
   ]
  },
  {
   "cell_type": "code",
   "execution_count": 14,
   "id": "94276267-3834-4f91-80ca-5fb260c33997",
   "metadata": {},
   "outputs": [],
   "source": [
    "import tqdm"
   ]
  },
  {
   "cell_type": "code",
   "execution_count": 15,
   "id": "54001db1-f978-47a8-9445-9b5ad19b8c8e",
   "metadata": {},
   "outputs": [],
   "source": [
    "from tqdm.notebook import tqdm"
   ]
  },
  {
   "cell_type": "code",
   "execution_count": 16,
   "id": "c4d5c860-ad77-4aae-acbe-4a451c5f8073",
   "metadata": {},
   "outputs": [],
   "source": [
    "import numpy as np"
   ]
  },
  {
   "cell_type": "code",
   "execution_count": 17,
   "id": "646b2d4e-af6c-46cd-822c-52ec4fa80c74",
   "metadata": {},
   "outputs": [],
   "source": [
    "import pandas as pd\n",
    "import matplotlib.pyplot as plt\n",
    "from sklearn.linear_model import LogisticRegression\n",
    "from sklearn.model_selection import train_test_split\n",
    "from sklearn.metrics import accuracy_score"
   ]
  },
  {
   "cell_type": "code",
   "execution_count": 18,
   "id": "5adddc99-8fd6-4096-9390-45718da76fed",
   "metadata": {},
   "outputs": [
    {
     "name": "stdout",
     "output_type": "stream",
     "text": [
      "['character_10_yna', 'character_11_taamatar', 'character_12_thaa', 'character_13_daa', 'character_14_dhaa', 'character_15_adna', 'character_16_tabala', 'character_17_tha', 'character_18_da', 'character_19_dha', 'character_1_ka', 'character_20_na', 'character_21_pa', 'character_22_pha', 'character_23_ba', 'character_24_bha', 'character_25_ma', 'character_26_yaw', 'character_27_ra', 'character_28_la', 'character_29_waw', 'character_2_kha', 'character_30_motosaw', 'character_31_petchiryakha', 'character_32_patalosaw', 'character_33_ha', 'character_34_chhya', 'character_35_tra', 'character_36_gya', 'character_3_ga', 'character_4_gha', 'character_5_kna', 'character_6_cha', 'character_7_chha', 'character_8_ja', 'character_9_jha', 'digit_0', 'digit_1', 'digit_2', 'digit_3', 'digit_4', 'digit_5', 'digit_6', 'digit_7', 'digit_8']\n"
     ]
    }
   ],
   "source": [
    "import os\n",
    "path=\"DevanagariHandwrittenCharacterDataset/Test/\"\n",
    "files= os.listdir(path)[:45]\n",
    "print(files)\n",
    "classes={'character_1_ka':0,'character_2_kha':1,'character_3_ga':2,'character_4_gha':3,'character_5_kna':4,'character_6_cha':5,'character_7_chha':6,'character_8_ja':7,'character_9_jha':8,'character_10_yna':9,'character_11_taamatar':10,'character_12_thaa':11,'character_13_daa':12,'character_14_dhaa':13,'character_15_adna':14,'character_16_tabala':15,'character_17_tha':16,'character_18_da':17,'character_19_dha':18,'character_20_na':19,'character_21_pa':20,'character_22_pha':21,'character_23_ba':22,'character_24_bha':23,'character_25_ma':24,'character_26_yaw':25,'character_27_ra':26,'character_28_la':27,'character_29_waw':28,'character_30_motosaw':29,'character_31_petchiryakha':30,'character_32_patalosaw':31,'character_33_ha':32,'character_34_chhya':33,'character_35_tra':34,'character_36_gya':35,'digit_0':36,'digit_1':37,'digit_2':38,'digit_3':39,'digit_4':40,'digit_5':41,'digit_6':42,'digit_7':43,'digit_8':44,'digit_9':45}"
   ]
  },
  {
   "cell_type": "code",
   "execution_count": null,
   "id": "b8ceea52-20eb-44c5-99dd-86e021af7f7d",
   "metadata": {},
   "outputs": [],
   "source": [
    "import cv2\n",
    "\n",
    "X = []\n",
    "Y = []\n",
    "\n",
    "for c1 in classes:\n",
    "   # print(c1)\n",
    "    pth=path+c1\n",
    "    #print(pth)\n",
    "    for img_name in os.listdir(pth):\n",
    "        img = cv2.imread(pth+\"/\"+img_name,0)\n",
    "        #print(img_name)\n",
    "        X.append(img)\n",
    "        #print(c1)\n",
    "        Y.append(classes[c1])\n",
    "print(\"dataset created sucessfully\")\n"
   ]
  },
  {
   "cell_type": "code",
   "execution_count": null,
   "id": "77a75cd3-99d8-4d0b-8609-5ff6db3589a1",
   "metadata": {},
   "outputs": [],
   "source": [
    "pd.Series(Y).value_counts()"
   ]
  },
  {
   "cell_type": "code",
   "execution_count": null,
   "id": "3ad1f707-b653-455d-a93d-c67c092dccfe",
   "metadata": {},
   "outputs": [],
   "source": [
    "X[0].shape"
   ]
  },
  {
   "cell_type": "code",
   "execution_count": null,
   "id": "9f7acb40-d76c-4cfa-b599-632dedc59ad9",
   "metadata": {},
   "outputs": [],
   "source": [
    "print(type(X))\n",
    "X = np.array(X)\n",
    "Y = np.array(Y)\n",
    "print(type(X))"
   ]
  },
  {
   "cell_type": "code",
   "execution_count": null,
   "id": "582ef833-1d61-4573-b4f7-5f999b9019f1",
   "metadata": {},
   "outputs": [],
   "source": [
    "plt.imshow(X[100],cmap=\"gray\")\n",
    "print(Y[100])"
   ]
  },
  {
   "cell_type": "code",
   "execution_count": null,
   "id": "46a77155-f737-4723-b01b-aa36f477c0b7",
   "metadata": {},
   "outputs": [],
   "source": [
    "X.shape"
   ]
  },
  {
   "cell_type": "code",
   "execution_count": null,
   "id": "ae5909ce-73e3-4149-9241-14064db7c20f",
   "metadata": {},
   "outputs": [],
   "source": [
    "X_new=X.reshape(len(X),-1)\n",
    "print(X_new.shape)\n",
    "print(Y.shape)\n"
   ]
  },
  {
   "cell_type": "code",
   "execution_count": null,
   "id": "a33f1921-ff17-440e-a24f-85485c22d532",
   "metadata": {},
   "outputs": [],
   "source": [
    "X.shape"
   ]
  },
  {
   "cell_type": "code",
   "execution_count": null,
   "id": "8ba54c8b-df0c-4823-995e-f2f88d47975c",
   "metadata": {},
   "outputs": [],
   "source": [
    "28*28"
   ]
  },
  {
   "cell_type": "code",
   "execution_count": null,
   "id": "773f40c1-0ad5-43f0-8147-dfc4aa844c34",
   "metadata": {},
   "outputs": [],
   "source": [
    "print(X.shape)\n",
    "print(X.ndim)\n",
    "print(X_new.ndim)"
   ]
  },
  {
   "cell_type": "code",
   "execution_count": null,
   "id": "477730c9-8137-4530-9554-116d0caf96e3",
   "metadata": {},
   "outputs": [],
   "source": [
    "xtrain, xtest, ytrain, ytest = train_test_split(X_new,Y,test_size=2026,random_state=10)"
   ]
  },
  {
   "cell_type": "code",
   "execution_count": null,
   "id": "a4d351b7-568f-4dc9-b788-34912b38eca2",
   "metadata": {},
   "outputs": [],
   "source": [
    "print(xtrain.shape, ytrain.shape)\n",
    "print(xtest.shape,ytest.shape)"
   ]
  },
  {
   "cell_type": "code",
   "execution_count": null,
   "id": "710b46ac-01ee-4517-a8ef-a8ddb4f4961c",
   "metadata": {},
   "outputs": [],
   "source": [
    "print(xtrain.max())\n",
    "print(xtest.max())\n",
    "x_train = xtrain/255\n",
    "x_test = xtest/255\n",
    "print(x_train.max())\n",
    "print(x_test.max())"
   ]
  },
  {
   "cell_type": "code",
   "execution_count": null,
   "id": "3ccbb974-169c-4ea1-8eb0-865f1bd1899c",
   "metadata": {},
   "outputs": [],
   "source": [
    "from sklearn.decomposition import PCA"
   ]
  },
  {
   "cell_type": "code",
   "execution_count": null,
   "id": "dec4e639-9b6b-44e7-84fe-f6eec1c5d4a1",
   "metadata": {},
   "outputs": [],
   "source": [
    "print(x_train.shape, x_test.shape)\n",
    "pca= PCA(.98)\n",
    "xtrain = pca.fit_transform(x_train)\n",
    "xtest = pca.transform(x_test)\n",
    "print(xtrain.shape, xtest.shape)\n",
    "print(pca.n_components)\n",
    "print(len(pca.explained_variance_ratio_))"
   ]
  },
  {
   "cell_type": "code",
   "execution_count": null,
   "id": "18a3d206-4136-4b45-afec-9a82829d96b2",
   "metadata": {},
   "outputs": [],
   "source": [
    "ytest[:10]"
   ]
  },
  {
   "cell_type": "code",
   "execution_count": null,
   "id": "280b644a-d2de-4fd0-baad-139f8e461fa8",
   "metadata": {},
   "outputs": [],
   "source": [
    "log = LogisticRegression(solver='lbfgs',max_iter=1000)\n",
    "log.fit(xtrain, ytrain)"
   ]
  },
  {
   "cell_type": "code",
   "execution_count": null,
   "id": "8bcec1a2-cfcd-4c4e-a466-5f9be6cfb033",
   "metadata": {},
   "outputs": [],
   "source": [
    "tr_pred = log.predict(xtrain)\n",
    "ts_pred = log.predict(xtest)"
   ]
  },
  {
   "cell_type": "code",
   "execution_count": null,
   "id": "5f254080-d6b2-41d8-8940-8bdbf8e3f64b",
   "metadata": {},
   "outputs": [],
   "source": [
    "print(\"Training Score\", accuracy_score(ytrain, tr_pred))\n",
    "print(\"Testing Score\", accuracy_score(ytest, ts_pred))"
   ]
  },
  {
   "cell_type": "code",
   "execution_count": null,
   "id": "ca372556-0ba2-4a58-afc5-0bafce90abfb",
   "metadata": {},
   "outputs": [],
   "source": [
    "plt.imshow(x_test[0].reshape(32,32),cmap='gray')\n",
    "print(ytest[0])"
   ]
  },
  {
   "cell_type": "code",
   "execution_count": null,
   "id": "011bd546-79f3-4d85-b906-bab87ed2ca4f",
   "metadata": {},
   "outputs": [],
   "source": [
    "decode = {0:'charcter_1_ka',1:'charcter_2_kha',2:'charcter_1_ga',3:'character_4_gha',4:'character_5_kna',5:'character_6_cha',6:'character_7_chha',7:'character_8_ja',8:'character_9_jha',9:'character_10_yna',10:'character_11_taamatar',11:'character_12_thaa',12:'character_13_daa',13:'character_14_dhaa',14:'character_15_adna',15:'character_16_tabala',16:'character_17_tha',17:'character_18_da',18:'character_19_dha',19:'character_20_na',20:'character_21_pa',21:'character_22_pha',22:'character_23_ba',23:'character_24_bha',24:'character_25_ma',25:'character_26_yaw',26:'character_27_ra',27:'character_28_la',28:'character_29_waw',29:'character_30_motosaw',30:'character_31_petchiryakha',31:'character_32_patalosaw',32:'character_33_ha',33:'character_34_chhya',34:'character_35_tra',35:'character_36_gya',36:'digit_0',37:'digit_1',38:'digit_2',39:'digit_3',40:'digit_4',41:'digit_5',42:'digit_6',43:'digit_7',44:'digit_8',45:'digit_9'}\n",
    "for i in range(10):\n",
    "    plt.subplot(10,10,i+1)\n",
    "    plt.subplots_adjust() \n",
    "    plt.imshow(x_test[i].reshape(32,32),cmap='gray')\n",
    "    plt.title(decode[ts_pred[i]])\n",
    "    plt.axis('off')\n",
    "\n",
    "\n",
    "\n"
   ]
  },
  {
   "cell_type": "code",
   "execution_count": null,
   "id": "90cc58a8-8e2a-4f39-a2ee-86535257e87e",
   "metadata": {},
   "outputs": [],
   "source": [
    "np.where(ts_pred!=ytest)\n",
    "d=pd.DataFrame({'Actual':ytest,'Prediction':ts_pred})\n",
    "d[d['Actual']!=d['Prediction']]"
   ]
  },
  {
   "cell_type": "code",
   "execution_count": null,
   "id": "ac79c655-b984-474a-8660-0a2e0b52d50e",
   "metadata": {},
   "outputs": [],
   "source": [
    "img = cv2.resize(cv2.imread('yo.png',0),(32,32))\n",
    "plt.imshow(img,cmap='gray')"
   ]
  },
  {
   "cell_type": "code",
   "execution_count": null,
   "id": "dffadfb2-67fa-45e4-bf54-6abab590e91a",
   "metadata": {},
   "outputs": [],
   "source": [
    "img= pca.transform(img.reshape(1,-1)/255)"
   ]
  },
  {
   "cell_type": "code",
   "execution_count": null,
   "id": "a5e52ed6-0a75-42b3-b8f2-b547f36bfc6c",
   "metadata": {},
   "outputs": [],
   "source": [
    "decode[log.predict(img)[0]]"
   ]
  }
 ],
 "metadata": {
  "kernelspec": {
   "display_name": "Python 3 (ipykernel)",
   "language": "python",
   "name": "python3"
  },
  "language_info": {
   "codemirror_mode": {
    "name": "ipython",
    "version": 3
   },
   "file_extension": ".py",
   "mimetype": "text/x-python",
   "name": "python",
   "nbconvert_exporter": "python",
   "pygments_lexer": "ipython3",
   "version": "3.12.0"
  }
 },
 "nbformat": 4,
 "nbformat_minor": 5
}
